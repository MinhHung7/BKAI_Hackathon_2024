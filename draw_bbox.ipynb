{
 "cells": [
  {
   "cell_type": "code",
   "execution_count": 3,
   "metadata": {},
   "outputs": [],
   "source": [
    "import cv2\n",
    "\n",
    "def draw_bounding_boxes(image_path, label_path):\n",
    "    # Đọc ảnh bằng OpenCV\n",
    "    image = cv2.imread(image_path)\n",
    "    \n",
    "    # Đọc file txt chứa thông tin bounding boxes\n",
    "    with open(label_path, 'r') as file:\n",
    "        lines = file.readlines()\n",
    "        \n",
    "        for line in lines:\n",
    "            parts = line.strip().split()\n",
    "            class_id = int(parts[0])  # Lấy class_id\n",
    "            x_center, y_center, width, height = map(float, parts[1:])\n",
    "\n",
    "            # Chuyển đổi tọa độ trung tâm và kích thước sang tọa độ góc\n",
    "            img_height, img_width = image.shape[:2]\n",
    "            x_min = int((x_center - width / 2) * img_width)\n",
    "            y_min = int((y_center - height / 2) * img_height)\n",
    "            x_max = int((x_center + width / 2) * img_width)\n",
    "            y_max = int((y_center + height / 2) * img_height)\n",
    "\n",
    "            # Vẽ bounding box lên ảnh\n",
    "            color = (0, 255, 0)  # Màu xanh lá\n",
    "            thickness = 2  # Độ dày đường viền\n",
    "            cv2.rectangle(image, (x_min, y_min), (x_max, y_max), color, thickness)\n",
    "\n",
    "            # Ghi class_id lên bbox\n",
    "            font = cv2.FONT_HERSHEY_SIMPLEX\n",
    "            font_scale = 0.5\n",
    "            cv2.putText(image, str(class_id), (x_min, y_min - 5), font, font_scale, color, thickness)\n",
    "\n",
    "    # Hiển thị ảnh đã vẽ bbox\n",
    "    cv2.imshow(\"Image with Bounding Boxes\", image)\n",
    "    cv2.waitKey(0)  # Chờ nhấn phím để đóng cửa sổ\n",
    "    cv2.destroyAllWindows()  # Đóng tất cả các cửa sổ\n",
    "\n",
    "# Đường dẫn đến ảnh và file txt\n",
    "image_path = r'D:\\BKAI\\main_datasets\\daytime\\daytime_fold_0\\train\\image\\class2_CAM_07_294.jpg'\n",
    "label_path = r'D:\\BKAI\\main_datasets\\daytime\\daytime_fold_0\\train\\label\\class2_CAM_07_294.txt'\n",
    "\n",
    "draw_bounding_boxes(image_path, label_path)\n"
   ]
  },
  {
   "cell_type": "code",
   "execution_count": null,
   "metadata": {},
   "outputs": [],
   "source": []
  }
 ],
 "metadata": {
  "kernelspec": {
   "display_name": "Python 3",
   "language": "python",
   "name": "python3"
  },
  "language_info": {
   "codemirror_mode": {
    "name": "ipython",
    "version": 3
   },
   "file_extension": ".py",
   "mimetype": "text/x-python",
   "name": "python",
   "nbconvert_exporter": "python",
   "pygments_lexer": "ipython3",
   "version": "3.12.0"
  }
 },
 "nbformat": 4,
 "nbformat_minor": 2
}
