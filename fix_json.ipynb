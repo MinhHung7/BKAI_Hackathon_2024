{
 "cells": [
  {
   "cell_type": "code",
   "execution_count": 34,
   "metadata": {},
   "outputs": [
    {
     "name": "stdout",
     "output_type": "stream",
     "text": [
      "Đã chuyển đổi xong các ID!\n"
     ]
    }
   ],
   "source": [
    "import json\n",
    "\n",
    "file_json_name = r'D:\\BKAI\\main_datasets\\nighttime\\nighttime_fold_2\\val\\image\\annotations.json'\n",
    "\n",
    "# Đọc file JSON\n",
    "with open(file_json_name, 'r') as f:\n",
    "    data = json.load(f)\n",
    "\n",
    "# Thay đổi id trong key \"images\"\n",
    "for index, image in enumerate(data[\"images\"], start=1):\n",
    "    image[\"id\"] = index  # Gán số thứ tự từ 1\n",
    "\n",
    "# Ghi kết quả vào file JSON mới (hoặc ghi đè)\n",
    "with open(file_json_name, 'w') as f:\n",
    "    json.dump(data, f, indent=4, ensure_ascii=False)\n",
    "\n",
    "print(\"Đã chuyển đổi xong các ID!\")\n"
   ]
  },
  {
   "cell_type": "code",
   "execution_count": 35,
   "metadata": {},
   "outputs": [
    {
     "name": "stdout",
     "output_type": "stream",
     "text": [
      "Đã chuyển đổi xong các ID!\n"
     ]
    }
   ],
   "source": [
    "import json\n",
    "\n",
    "# Đọc file JSON\n",
    "with open(file_json_name, 'r') as f:\n",
    "    data = json.load(f)\n",
    "\n",
    "# Thay đổi id trong key \"images\"\n",
    "for annotation in data[\"annotations\"]:\n",
    "    annotation[\"bbox\"] = [int(value) for value in annotation[\"bbox\"]]\n",
    "\n",
    "# Ghi kết quả vào file JSON mới (hoặc ghi đè)\n",
    "with open(file_json_name, 'w') as f:\n",
    "    json.dump(data, f, indent=4, ensure_ascii=False)\n",
    "\n",
    "print(\"Đã chuyển đổi xong các ID!\")\n"
   ]
  },
  {
   "cell_type": "code",
   "execution_count": 36,
   "metadata": {},
   "outputs": [
    {
     "name": "stdout",
     "output_type": "stream",
     "text": [
      "Đã cập nhật xong các giá trị image_id trong annotations!\n"
     ]
    }
   ],
   "source": [
    "import json\n",
    "\n",
    "# Đọc file JSON\n",
    "with open(file_json_name, 'r') as f:\n",
    "    data = json.load(f)\n",
    "\n",
    "# Tạo một từ điển ánh xạ từ file_name sang id\n",
    "image_id_map = {image[\"file_name\"]: image[\"id\"] for image in data[\"images\"]}\n",
    "\n",
    "# Cập nhật giá trị \"image_id\" trong annotations\n",
    "for annotation in data[\"annotations\"]:\n",
    "    # Lấy file_name từ image_id hiện tại trong annotation\n",
    "    current_image_id = annotation[\"image_id\"] + \".jpg\"\n",
    "\n",
    "    # Kiểm tra xem image_id có trong ánh xạ không\n",
    "    if current_image_id in image_id_map:\n",
    "        # Cập nhật image_id bằng id tương ứng\n",
    "        annotation[\"image_id\"] = image_id_map[current_image_id]\n",
    "    else:\n",
    "        print(f\"Warning: {current_image_id} not found in image_id_map.\")\n",
    "\n",
    "# Ghi kết quả vào file JSON mới (hoặc ghi đè)\n",
    "with open(file_json_name, 'w') as f:\n",
    "    json.dump(data, f, indent=4, ensure_ascii=False)\n",
    "\n",
    "print(\"Đã cập nhật xong các giá trị image_id trong annotations!\")\n"
   ]
  }
 ],
 "metadata": {
  "kernelspec": {
   "display_name": "Python 3",
   "language": "python",
   "name": "python3"
  },
  "language_info": {
   "codemirror_mode": {
    "name": "ipython",
    "version": 3
   },
   "file_extension": ".py",
   "mimetype": "text/x-python",
   "name": "python",
   "nbconvert_exporter": "python",
   "pygments_lexer": "ipython3",
   "version": "3.12.0"
  }
 },
 "nbformat": 4,
 "nbformat_minor": 2
}
