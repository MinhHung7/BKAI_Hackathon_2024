{
 "cells": [
  {
   "cell_type": "markdown",
   "id": "927b68f7",
   "metadata": {
    "_cell_guid": "b1076dfc-b9ad-4769-8c92-a6c4dae69d19",
    "_uuid": "8f2839f25d086af736a60e9eeb907d3b93b6e0e5",
    "papermill": {
     "duration": 0.002759,
     "end_time": "2024-11-10T05:00:00.633238",
     "exception": false,
     "start_time": "2024-11-10T05:00:00.630479",
     "status": "completed"
    },
    "tags": []
   },
   "source": [
    "# Download detectron2"
   ]
  },
  {
   "cell_type": "code",
   "execution_count": null,
   "id": "a7f57b17",
   "metadata": {
    "execution": {
     "iopub.execute_input": "2024-11-10T05:00:00.639326Z",
     "iopub.status.busy": "2024-11-10T05:00:00.638958Z",
     "iopub.status.idle": "2024-11-10T05:02:09.159384Z",
     "shell.execute_reply": "2024-11-10T05:02:09.158507Z"
    },
    "papermill": {
     "duration": 128.526157,
     "end_time": "2024-11-10T05:02:09.161747",
     "exception": false,
     "start_time": "2024-11-10T05:00:00.635590",
     "status": "completed"
    },
    "tags": []
   },
   "outputs": [],
   "source": [
    "!python -m pip install 'git+https://github.com/facebookresearch/detectron2.git'\n",
    "# Chech torch and detectron2\n",
    "import torch, detectron2\n",
    "!nvcc --version\n",
    "TORCH_VERSION = \".\".join(torch.__version__.split(\".\")[:2])\n",
    "CUDA_VERSION = torch.__version__.split(\"+\")[-1]\n",
    "print(\"torch: \", TORCH_VERSION, \"; cuda: \", CUDA_VERSION)\n",
    "print(\"detectron2:\", detectron2.__version__)\n",
    "# Some basic setup:\n",
    "# Setup detectron2 logger\n",
    "import detectron2\n",
    "from detectron2.utils.logger import setup_logger\n",
    "setup_logger()\n",
    "\n",
    "# import some common libraries\n",
    "import numpy as np\n",
    "import os, json, cv2, random\n",
    "\n",
    "# import some common detectron2 utilities\n",
    "from detectron2 import model_zoo\n",
    "from detectron2.engine import DefaultPredictor\n",
    "from detectron2.config import get_cfg\n",
    "from detectron2.utils.visualizer import Visualizer\n",
    "from detectron2.data import MetadataCatalog, DatasetCatalog"
   ]
  },
  {
   "cell_type": "markdown",
   "id": "f2ec94a9",
   "metadata": {
    "papermill": {
     "duration": 0.006671,
     "end_time": "2024-11-10T05:02:09.175580",
     "exception": false,
     "start_time": "2024-11-10T05:02:09.168909",
     "status": "completed"
    },
    "tags": []
   },
   "source": [
    "# Register dataset"
   ]
  },
  {
   "cell_type": "code",
   "execution_count": null,
   "id": "d7ae7412",
   "metadata": {
    "execution": {
     "iopub.execute_input": "2024-11-10T05:02:09.192789Z",
     "iopub.status.busy": "2024-11-10T05:02:09.191666Z",
     "iopub.status.idle": "2024-11-10T05:02:09.711705Z",
     "shell.execute_reply": "2024-11-10T05:02:09.710701Z"
    },
    "papermill": {
     "duration": 0.531577,
     "end_time": "2024-11-10T05:02:09.713953",
     "exception": false,
     "start_time": "2024-11-10T05:02:09.182376",
     "status": "completed"
    },
    "tags": []
   },
   "outputs": [],
   "source": [
    "from detectron2.data import MetadataCatalog, DatasetCatalog\n",
    "from detectron2.data.datasets import register_coco_instances\n",
    "\n",
    "# Ensure paths have forward slashes\n",
    "train_image_path = '/kaggle/input/main-datasets/main_datasets/nighttime/nighttime_fold_0/train/image'\n",
    "train_json_path = '/kaggle/input/main-datasets/main_datasets/nighttime/nighttime_fold_0/train/image/annotations.json'\n",
    "\n",
    "# Unregister existing datasets and metadata if they were registered previously\n",
    "MetadataCatalog.pop(\"my_train\", None)\n",
    "DatasetCatalog.pop(\"my_train\", None)\n",
    "\n",
    "# Register the datasets\n",
    "register_coco_instances('my_train', {}, train_json_path, train_image_path)\n",
    "\n",
    "# Declare metadata and load dataset dicts\n",
    "train_metadata = MetadataCatalog.get(\"my_train\")\n",
    "train_dataset_dicts = DatasetCatalog.get(\"my_train\")\n"
   ]
  },
  {
   "cell_type": "markdown",
   "id": "aafdb858",
   "metadata": {
    "papermill": {
     "duration": 0.006974,
     "end_time": "2024-11-10T05:02:09.728583",
     "exception": false,
     "start_time": "2024-11-10T05:02:09.721609",
     "status": "completed"
    },
    "tags": []
   },
   "source": [
    "# Training"
   ]
  },
  {
   "cell_type": "code",
   "execution_count": null,
   "id": "08ea5ffb",
   "metadata": {
    "execution": {
     "iopub.execute_input": "2024-11-10T05:02:09.744927Z",
     "iopub.status.busy": "2024-11-10T05:02:09.744234Z",
     "iopub.status.idle": "2024-11-10T07:16:05.154744Z",
     "shell.execute_reply": "2024-11-10T07:16:05.153874Z"
    },
    "papermill": {
     "duration": 8035.421039,
     "end_time": "2024-11-10T07:16:05.156960",
     "exception": false,
     "start_time": "2024-11-10T05:02:09.735921",
     "status": "completed"
    },
    "tags": []
   },
   "outputs": [],
   "source": [
    "# Config the training proccess\n",
    "# Now before we train we need to config\n",
    "from detectron2.engine import DefaultTrainer\n",
    "\n",
    "cfg = get_cfg()\n",
    "cfg.OUTPUT_DIR = '/kaggle/working/output'\n",
    "cfg.merge_from_file(model_zoo.get_config_file(\"COCO-Detection/faster_rcnn_R_101_FPN_3x.yaml\"))\n",
    "cfg.DATASETS.TRAIN = (\"my_train\",)\n",
    "cfg.DATASETS.TEST = ()\n",
    "cfg.DATALOADER.NUM_WORKERS = 4\n",
    "cfg.MODEL.WEIGHTS = model_zoo.get_checkpoint_url(\"COCO-Detection/faster_rcnn_R_101_FPN_3x.yaml\")  \n",
    "cfg.SOLVER.IMS_PER_BATCH = 2  \n",
    "cfg.SOLVER.BASE_LR = 0.001 \n",
    "cfg.SOLVER.MAX_ITER = 19389   \n",
    "cfg.SOLVER.STEPS = []        \n",
    "cfg.MODEL.ROI_HEADS.BATCH_SIZE_PER_IMAGE = 512   \n",
    "cfg.MODEL.ROI_HEADS.NUM_CLASSES = 4  \n",
    "\n",
    "\n",
    "os.makedirs(cfg.OUTPUT_DIR, exist_ok=True)\n",
    "trainer = DefaultTrainer(cfg) \n",
    "trainer.resume_or_load(resume=False) \n",
    "\n",
    "# train\n",
    "trainer.train()"
   ]
  }
 ],
 "metadata": {
  "kaggle": {
   "accelerator": "gpu",
   "dataSources": [
    {
     "datasetId": 6030745,
     "sourceId": 9832538,
     "sourceType": "datasetVersion"
    }
   ],
   "dockerImageVersionId": 30786,
   "isGpuEnabled": true,
   "isInternetEnabled": true,
   "language": "python",
   "sourceType": "notebook"
  },
  "kernelspec": {
   "display_name": "Python 3",
   "language": "python",
   "name": "python3"
  },
  "language_info": {
   "codemirror_mode": {
    "name": "ipython",
    "version": 3
   },
   "file_extension": ".py",
   "mimetype": "text/x-python",
   "name": "python",
   "nbconvert_exporter": "python",
   "pygments_lexer": "ipython3",
   "version": "3.10.14"
  },
  "papermill": {
   "default_parameters": {},
   "duration": 8170.026805,
   "end_time": "2024-11-10T07:16:07.963402",
   "environment_variables": {},
   "exception": null,
   "input_path": "__notebook__.ipynb",
   "output_path": "__notebook__.ipynb",
   "parameters": {},
   "start_time": "2024-11-10T04:59:57.936597",
   "version": "2.6.0"
  }
 },
 "nbformat": 4,
 "nbformat_minor": 5
}
