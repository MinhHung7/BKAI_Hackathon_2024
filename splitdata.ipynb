{
 "cells": [
  {
   "cell_type": "markdown",
   "metadata": {},
   "source": [
    "Đưa các ảnh và label vào folder image, label"
   ]
  },
  {
   "cell_type": "code",
   "execution_count": 8,
   "metadata": {},
   "outputs": [
    {
     "name": "stdout",
     "output_type": "stream",
     "text": [
      "Đã copy ảnh và label tương ứng vào thư mục.\n"
     ]
    }
   ],
   "source": [
    "import os\n",
    "import random\n",
    "import shutil\n",
    "\n",
    "# Thư mục chứa ảnh và label gốc\n",
    "origin_dir = r'D:\\BKAI\\orginal_dataset\\daytime\\image'\n",
    "\n",
    "# Thư mục đích để lưu ảnh và label cho tập val\n",
    "image_dir = r'D:\\BKAI\\TEST_old_aug_nighttime\\image'\n",
    "label_dir = r'D:\\BKAI\\TEST_old_aug_nighttime\\label'\n",
    "\n",
    "# Tạo thư mục đích nếu chưa tồn tại\n",
    "os.makedirs(image_dir, exist_ok=True)\n",
    "os.makedirs(label_dir, exist_ok=True)\n",
    "\n",
    "# Lấy danh sách file ảnh (giả sử định dạng ảnh là .jpg)\n",
    "files = [f for f in os.listdir(origin_dir)]\n",
    "\n",
    "# Copy ảnh và file label tương ứng vào thư mục val\n",
    "for file in files:\n",
    "    if file.endswith('.jpg') and 'cam_02' in file:\n",
    "        shutil.copy(os.path.join(origin_dir, file), os.path.join(image_dir, file))\n",
    "    # else:\n",
    "    #     shutil.move(os.path.join(origin_dir, file), label_dir)\n",
    "\n",
    "\n",
    "print(f\"Đã copy ảnh và label tương ứng vào thư mục.\")\n"
   ]
  },
  {
   "cell_type": "code",
   "execution_count": null,
   "metadata": {},
   "outputs": [
    {
     "name": "stdout",
     "output_type": "stream",
     "text": [
      "Đã copy 6866 ảnh và label tương ứng vào thư mục val.\n"
     ]
    }
   ],
   "source": [
    "import os\n",
    "import random\n",
    "import shutil\n",
    "\n",
    "# Thư mục chứa ảnh và label gốc\n",
    "image_dir = r'D:\\BKAI\\datasets_aug\\train\\image'\n",
    "label_dir = r'D:\\BKAI\\datasets_aug\\train\\label'\n",
    "\n",
    "# Thư mục đích để lưu ảnh và label cho tập val\n",
    "val_image_dir = r'D:\\BKAI\\datasets_aug\\val\\image'\n",
    "val_label_dir = r'D:\\BKAI\\datasets_aug\\val\\label'\n",
    "\n",
    "# Tạo thư mục đích nếu chưa tồn tại\n",
    "os.makedirs(val_image_dir, exist_ok=True)\n",
    "os.makedirs(val_label_dir, exist_ok=True)\n",
    "\n",
    "# Lấy danh sách file ảnh (giả sử định dạng ảnh là .jpg)\n",
    "image_files = [f for f in os.listdir(image_dir) if f.endswith('.jpg')]\n",
    "\n",
    "# Copy ảnh và file label tương ứng vào thư mục val\n",
    "for image_file in val_image_files:\n",
    "    # Copy file ảnh\n",
    "    shutil.copy(os.path.join(image_dir, image_file), os.path.join(val_image_dir, image_file))\n",
    "    \n",
    "    # Tìm và copy file label tương ứng (giả sử tên file label giống tên file ảnh, chỉ khác đuôi .txt)\n",
    "    label_file = image_file.replace('.jpg', '.txt')\n",
    "    if os.path.exists(os.path.join(label_dir, label_file)):\n",
    "        shutil.copy(os.path.join(label_dir, label_file), os.path.join(val_label_dir, label_file))\n",
    "\n",
    "print(f\"Đã copy {num_val_images} ảnh và label tương ứng vào thư mục val.\")\n"
   ]
  }
 ],
 "metadata": {
  "kernelspec": {
   "display_name": "Python 3",
   "language": "python",
   "name": "python3"
  },
  "language_info": {
   "codemirror_mode": {
    "name": "ipython",
    "version": 3
   },
   "file_extension": ".py",
   "mimetype": "text/x-python",
   "name": "python",
   "nbconvert_exporter": "python",
   "pygments_lexer": "ipython3",
   "version": "3.12.0"
  }
 },
 "nbformat": 4,
 "nbformat_minor": 2
}
