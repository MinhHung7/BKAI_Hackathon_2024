{
 "cells": [
  {
   "cell_type": "code",
   "execution_count": 1,
   "metadata": {},
   "outputs": [
    {
     "name": "stdout",
     "output_type": "stream",
     "text": [
      "Folder 'D:\\BKAI\\main_datasets\\nighttime\\nighttime_fold_0_YOLO' has been compressed to 'D:\\BKAI\\main_datasets\\nighttime\\nighttime_fold_0_YOLO.zip'.\n"
     ]
    }
   ],
   "source": [
    "import os\n",
    "import zipfile\n",
    "\n",
    "def compress_folder(folder_path, output_zip):\n",
    "    \"\"\"\n",
    "    Compresses a folder into a ZIP file.\n",
    "\n",
    "    :param folder_path: Path to the folder to compress.\n",
    "    :param output_zip: Path to the output ZIP file.\n",
    "    \"\"\"\n",
    "    with zipfile.ZipFile(output_zip, 'w', zipfile.ZIP_DEFLATED) as zipf:\n",
    "        for root, dirs, files in os.walk(folder_path):\n",
    "            for file in files:\n",
    "                file_path = os.path.join(root, file)\n",
    "                # Add file to the ZIP archive, preserving folder structure\n",
    "                arcname = os.path.relpath(file_path, folder_path)\n",
    "                zipf.write(file_path, arcname)\n",
    "    print(f\"Folder '{folder_path}' has been compressed to '{output_zip}'.\")\n",
    "\n",
    "# Example usage\n",
    "folder_to_compress = r\"D:\\BKAI\\main_datasets\\nighttime\\nighttime_fold_0_YOLO\"\n",
    "output_zip_file = r\"D:\\BKAI\\main_datasets\\nighttime\\nighttime_fold_0_YOLO.zip\"\n",
    "compress_folder(folder_to_compress, output_zip_file)\n"
   ]
  }
 ],
 "metadata": {
  "kernelspec": {
   "display_name": "Python 3",
   "language": "python",
   "name": "python3"
  },
  "language_info": {
   "codemirror_mode": {
    "name": "ipython",
    "version": 3
   },
   "file_extension": ".py",
   "mimetype": "text/x-python",
   "name": "python",
   "nbconvert_exporter": "python",
   "pygments_lexer": "ipython3",
   "version": "3.12.0"
  }
 },
 "nbformat": 4,
 "nbformat_minor": 2
}
