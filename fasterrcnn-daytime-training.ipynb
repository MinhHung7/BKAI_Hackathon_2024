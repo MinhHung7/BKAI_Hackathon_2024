{
 "cells": [
  {
   "cell_type": "markdown",
   "id": "340110ee",
   "metadata": {
    "papermill": {
     "duration": 0.002633,
     "end_time": "2024-11-09T16:30:01.629099",
     "exception": false,
     "start_time": "2024-11-09T16:30:01.626466",
     "status": "completed"
    },
    "tags": []
   },
   "source": [
    "# Download detectron2"
   ]
  },
  {
   "cell_type": "code",
   "execution_count": null,
   "id": "54089331",
   "metadata": {
    "execution": {
     "iopub.execute_input": "2024-11-09T16:30:01.635013Z",
     "iopub.status.busy": "2024-11-09T16:30:01.634670Z",
     "iopub.status.idle": "2024-11-09T16:32:07.200898Z",
     "shell.execute_reply": "2024-11-09T16:32:07.200068Z"
    },
    "papermill": {
     "duration": 125.571759,
     "end_time": "2024-11-09T16:32:07.203172",
     "exception": false,
     "start_time": "2024-11-09T16:30:01.631413",
     "status": "completed"
    },
    "tags": []
   },
   "outputs": [],
   "source": [
    "!python -m pip install 'git+https://github.com/facebookresearch/detectron2.git'\n",
    "# Chech torch and detectron2\n",
    "import torch, detectron2\n",
    "!nvcc --version\n",
    "TORCH_VERSION = \".\".join(torch.__version__.split(\".\")[:2])\n",
    "CUDA_VERSION = torch.__version__.split(\"+\")[-1]\n",
    "print(\"torch: \", TORCH_VERSION, \"; cuda: \", CUDA_VERSION)\n",
    "print(\"detectron2:\", detectron2.__version__)\n",
    "# Some basic setup:\n",
    "# Setup detectron2 logger\n",
    "import detectron2\n",
    "from detectron2.utils.logger import setup_logger\n",
    "setup_logger()\n",
    "\n",
    "# import some common libraries\n",
    "import numpy as np\n",
    "import os, json, cv2, random\n",
    "\n",
    "# import some common detectron2 utilities\n",
    "from detectron2 import model_zoo\n",
    "from detectron2.engine import DefaultPredictor\n",
    "from detectron2.config import get_cfg\n",
    "from detectron2.utils.visualizer import Visualizer\n",
    "from detectron2.data import MetadataCatalog, DatasetCatalog"
   ]
  },
  {
   "cell_type": "markdown",
   "id": "90c635f6",
   "metadata": {
    "papermill": {
     "duration": 0.006651,
     "end_time": "2024-11-09T16:32:07.217066",
     "exception": false,
     "start_time": "2024-11-09T16:32:07.210415",
     "status": "completed"
    },
    "tags": []
   },
   "source": [
    "# Register dataset"
   ]
  },
  {
   "cell_type": "code",
   "execution_count": null,
   "id": "d51f13a2",
   "metadata": {
    "execution": {
     "iopub.execute_input": "2024-11-09T16:32:07.233266Z",
     "iopub.status.busy": "2024-11-09T16:32:07.232845Z",
     "iopub.status.idle": "2024-11-09T16:32:09.145045Z",
     "shell.execute_reply": "2024-11-09T16:32:09.144215Z"
    },
    "papermill": {
     "duration": 1.922379,
     "end_time": "2024-11-09T16:32:09.147427",
     "exception": false,
     "start_time": "2024-11-09T16:32:07.225048",
     "status": "completed"
    },
    "tags": []
   },
   "outputs": [],
   "source": [
    "from detectron2.data import MetadataCatalog, DatasetCatalog\n",
    "from detectron2.data.datasets import register_coco_instances\n",
    "\n",
    "# Ensure paths have forward slashes\n",
    "train_image_path = '/kaggle/input/main-datasets/main_datasets/daytime/daytime_fold_0/train/image'\n",
    "train_json_path = '/kaggle/input/main-datasets/main_datasets/daytime/daytime_fold_0/train/image/annotations.json'\n",
    "\n",
    "# Unregister existing datasets and metadata if they were registered previously\n",
    "MetadataCatalog.pop(\"my_train\", None)\n",
    "DatasetCatalog.pop(\"my_train\", None)\n",
    "\n",
    "# Register the datasets\n",
    "register_coco_instances('my_train', {}, train_json_path, train_image_path)\n",
    "\n",
    "# Declare metadata and load dataset dicts\n",
    "train_metadata = MetadataCatalog.get(\"my_train\")\n",
    "train_dataset_dicts = DatasetCatalog.get(\"my_train\")\n"
   ]
  },
  {
   "cell_type": "markdown",
   "id": "9d5f8e1f",
   "metadata": {
    "papermill": {
     "duration": 0.007209,
     "end_time": "2024-11-09T16:32:09.162171",
     "exception": false,
     "start_time": "2024-11-09T16:32:09.154962",
     "status": "completed"
    },
    "tags": []
   },
   "source": [
    "# Training"
   ]
  },
  {
   "cell_type": "code",
   "execution_count": null,
   "id": "ce40ada0",
   "metadata": {
    "execution": {
     "iopub.execute_input": "2024-11-09T16:32:09.178046Z",
     "iopub.status.busy": "2024-11-09T16:32:09.177720Z",
     "iopub.status.idle": "2024-11-09T21:21:29.468732Z",
     "shell.execute_reply": "2024-11-09T21:21:29.467750Z"
    },
    "papermill": {
     "duration": 17360.30142,
     "end_time": "2024-11-09T21:21:29.470852",
     "exception": false,
     "start_time": "2024-11-09T16:32:09.169432",
     "status": "completed"
    },
    "tags": []
   },
   "outputs": [],
   "source": [
    "# Config the training proccess\n",
    "# Now before we train we need to config\n",
    "from detectron2.engine import DefaultTrainer\n",
    "\n",
    "cfg = get_cfg()\n",
    "cfg.OUTPUT_DIR = '/kaggle/working/output'\n",
    "cfg.merge_from_file(model_zoo.get_config_file(\"COCO-Detection/faster_rcnn_R_101_FPN_3x.yaml\"))\n",
    "cfg.DATASETS.TRAIN = (\"my_train\",)\n",
    "cfg.DATASETS.TEST = ()\n",
    "cfg.DATALOADER.NUM_WORKERS = 4\n",
    "cfg.MODEL.WEIGHTS = model_zoo.get_checkpoint_url(\"COCO-Detection/faster_rcnn_R_101_FPN_3x.yaml\")  \n",
    "cfg.SOLVER.IMS_PER_BATCH = 2  \n",
    "cfg.SOLVER.BASE_LR = 0.001  \n",
    "cfg.SOLVER.MAX_ITER = 41968   \n",
    "cfg.SOLVER.STEPS = []       \n",
    "cfg.MODEL.ROI_HEADS.BATCH_SIZE_PER_IMAGE = 512   \n",
    "cfg.MODEL.ROI_HEADS.NUM_CLASSES = 4  \n",
    "\n",
    "\n",
    "os.makedirs(cfg.OUTPUT_DIR, exist_ok=True)\n",
    "trainer = DefaultTrainer(cfg) \n",
    "trainer.resume_or_load(resume=False) \n",
    "\n",
    "# train\n",
    "trainer.train()"
   ]
  }
 ],
 "metadata": {
  "kaggle": {
   "accelerator": "gpu",
   "dataSources": [
    {
     "datasetId": 6030745,
     "sourceId": 9832538,
     "sourceType": "datasetVersion"
    }
   ],
   "dockerImageVersionId": 30787,
   "isGpuEnabled": true,
   "isInternetEnabled": true,
   "language": "python",
   "sourceType": "notebook"
  },
  "kernelspec": {
   "display_name": "Python 3",
   "language": "python",
   "name": "python3"
  },
  "language_info": {
   "codemirror_mode": {
    "name": "ipython",
    "version": 3
   },
   "file_extension": ".py",
   "mimetype": "text/x-python",
   "name": "python",
   "nbconvert_exporter": "python",
   "pygments_lexer": "ipython3",
   "version": "3.10.14"
  },
  "papermill": {
   "default_parameters": {},
   "duration": 17493.420616,
   "end_time": "2024-11-09T21:21:32.383076",
   "environment_variables": {},
   "exception": null,
   "input_path": "__notebook__.ipynb",
   "output_path": "__notebook__.ipynb",
   "parameters": {},
   "start_time": "2024-11-09T16:29:58.962460",
   "version": "2.6.0"
  }
 },
 "nbformat": 4,
 "nbformat_minor": 5
}
