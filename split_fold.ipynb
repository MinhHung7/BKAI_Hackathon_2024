{
 "cells": [
  {
   "cell_type": "markdown",
   "metadata": {},
   "source": [
    "Chia fold cho ảnh daytime"
   ]
  },
  {
   "cell_type": "code",
   "execution_count": 3,
   "metadata": {},
   "outputs": [
    {
     "name": "stdout",
     "output_type": "stream",
     "text": [
      "Phân loại ảnh vào các fold hoàn tất!\n"
     ]
    }
   ],
   "source": [
    "import os\n",
    "import shutil\n",
    "\n",
    "# Danh sách loại ảnh\n",
    "categories = [\"cam_01\", \"cam_02\", \"cam_04\", \"cam_06\", \"cam_07\", \"cam_09\", \"cam_10\"]\n",
    "\n",
    "# Đường dẫn gốc đến thư mục chứa ảnh\n",
    "source_dir = r'D:\\BKAI\\daytime_aug_no_overlap\\daytime\\train\\image'\n",
    "# Đường dẫn đến thư mục chứa các fold\n",
    "target_dir = r'D:\\BKAI\\main_datasets\\daytime'\n",
    "\n",
    "# Định nghĩa cách phân loại cho mỗi fold\n",
    "folds = {\n",
    "    \"daytime_fold_0\": {\n",
    "        \"train\": categories[:5],  # 5 loại đầu\n",
    "        \"val\": categories[-2:]   # 2 loại cuối\n",
    "    },\n",
    "    \"daytime_fold_1\": {\n",
    "        \"train\": categories[-5:],  # 5 loại cuối\n",
    "        \"val\": categories[:2]      # 2 loại đầu\n",
    "    },\n",
    "    \"daytime_fold_2\": {\n",
    "        \"train\": categories[:3] + categories[-2:],  # 3 loại đầu + 2 loại cuối\n",
    "        \"val\": categories[3:5]                     # 2 loại giữa\n",
    "    }\n",
    "}\n",
    "\n",
    "# Tạo thư mục fold và copy ảnh vào đúng thư mục\n",
    "for fold_name, split in folds.items():\n",
    "    for split_name, split_categories in split.items():\n",
    "        # Tạo đường dẫn đến thư mục train hoặc val\n",
    "        split_dir = os.path.join(target_dir, fold_name, split_name, r'image')\n",
    "        os.makedirs(split_dir, exist_ok=True)\n",
    "        \n",
    "        # Copy tất cả ảnh thuộc các danh mục đã chọn vào thư mục đích\n",
    "        for category in split_categories:\n",
    "            for filename in os.listdir(source_dir):\n",
    "                # Kiểm tra tên file chứa tên loại ảnh (phân biệt chữ hoa, chữ thường)\n",
    "                if category in filename.lower():\n",
    "                    src_path = os.path.join(source_dir, filename)\n",
    "                    dst_path = os.path.join(split_dir, filename)\n",
    "                    shutil.copy(src_path, dst_path)\n",
    "\n",
    "print(\"Phân loại ảnh vào các fold hoàn tất!\")\n"
   ]
  },
  {
   "cell_type": "markdown",
   "metadata": {},
   "source": [
    "Chia fold cho label daytime"
   ]
  },
  {
   "cell_type": "code",
   "execution_count": 4,
   "metadata": {},
   "outputs": [
    {
     "name": "stdout",
     "output_type": "stream",
     "text": [
      "Phân loại các tệp .txt vào các fold hoàn tất!\n"
     ]
    }
   ],
   "source": [
    "import os\n",
    "import shutil\n",
    "\n",
    "# Danh sách loại ảnh\n",
    "categories = [\"cam_01\", \"cam_02\", \"cam_04\", \"cam_06\", \"cam_07\", \"cam_09\", \"cam_10\"]\n",
    "\n",
    "# Đường dẫn gốc đến thư mục chứa các file .txt\n",
    "source_dir = r'D:\\BKAI\\daytime_aug_no_overlap\\daytime\\train\\label'\n",
    "# Đường dẫn đến thư mục chứa các fold\n",
    "target_dir = r'D:\\BKAI\\main_datasets\\daytime'\n",
    "\n",
    "# Định nghĩa cách phân loại cho mỗi fold\n",
    "folds = {\n",
    "    \"daytime_fold_0\": {\n",
    "        \"train\": categories[:5],  # 5 loại đầu\n",
    "        \"val\": categories[-2:]   # 2 loại cuối\n",
    "    },\n",
    "    \"daytime_fold_1\": {\n",
    "        \"train\": categories[-5:],  # 5 loại cuối\n",
    "        \"val\": categories[:2]      # 2 loại đầu\n",
    "    },\n",
    "    \"daytime_fold_2\": {\n",
    "        \"train\": categories[:3] + categories[-2:],  # 3 loại đầu + 2 loại cuối\n",
    "        \"val\": categories[3:5]                     # 2 loại giữa\n",
    "    }\n",
    "}\n",
    "\n",
    "# Tạo thư mục fold và copy các tệp .txt vào đúng thư mục\n",
    "for fold_name, split in folds.items():\n",
    "    for split_name, split_categories in split.items():\n",
    "        # Tạo đường dẫn đến thư mục train hoặc val\n",
    "        split_dir = os.path.join(target_dir, fold_name, split_name, r'label')\n",
    "        os.makedirs(split_dir, exist_ok=True)\n",
    "        \n",
    "        # Copy tất cả file .txt thuộc các danh mục đã chọn vào thư mục đích\n",
    "        for category in split_categories:\n",
    "            for filename in os.listdir(source_dir):\n",
    "                # Kiểm tra tên file chứa loại ảnh và là file .txt\n",
    "                if category in filename.lower() and filename.endswith('.txt'):\n",
    "                    src_path = os.path.join(source_dir, filename)\n",
    "                    dst_path = os.path.join(split_dir, filename)\n",
    "                    shutil.copy(src_path, dst_path)\n",
    "\n",
    "print(\"Phân loại các tệp .txt vào các fold hoàn tất!\")\n"
   ]
  },
  {
   "cell_type": "markdown",
   "metadata": {},
   "source": [
    "Chia fold cho ảnh nighttime"
   ]
  },
  {
   "cell_type": "code",
   "execution_count": 5,
   "metadata": {},
   "outputs": [
    {
     "name": "stdout",
     "output_type": "stream",
     "text": [
      "Phân loại ảnh vào các fold hoàn tất!\n"
     ]
    }
   ],
   "source": [
    "import os\n",
    "import shutil\n",
    "\n",
    "# Danh sách loại ảnh\n",
    "categories = [\"cam_03\", \"cam_05\", \"cam_08\"]\n",
    "\n",
    "# Đường dẫn gốc đến thư mục chứa ảnh\n",
    "source_dir = r'D:\\BKAI\\daytime_aug_no_overlap\\nighttime\\train\\image'\n",
    "# Đường dẫn đến thư mục chứa các fold\n",
    "target_dir = r'D:\\BKAI\\main_datasets\\nighttime'\n",
    "\n",
    "# Định nghĩa cách phân loại cho mỗi fold\n",
    "folds = {\n",
    "    \"nighttime_fold_0\": {\n",
    "        \"train\": categories[:2],  # 2 loại đầu\n",
    "        \"val\": categories[-1:]   # 1 loại cuối\n",
    "    },\n",
    "    \"nighttime_fold_1\": {\n",
    "        \"train\": categories[-2:],  # 2 loại cuối\n",
    "        \"val\": categories[:1]      # 1 loại đầu\n",
    "    },\n",
    "    \"nighttime_fold_2\": {\n",
    "        \"train\": categories[:1] + categories[-1:],  # 1 loại đầu + 1 loại cuối\n",
    "        \"val\": categories[1:2]                     # 1 loại giữa\n",
    "    }\n",
    "}\n",
    "\n",
    "# Tạo thư mục fold và copy ảnh vào đúng thư mục\n",
    "for fold_name, split in folds.items():\n",
    "    for split_name, split_categories in split.items():\n",
    "        # Tạo đường dẫn đến thư mục train hoặc val\n",
    "        split_dir = os.path.join(target_dir, fold_name, split_name, r'image')\n",
    "        os.makedirs(split_dir, exist_ok=True)\n",
    "        \n",
    "        # Copy tất cả ảnh thuộc các danh mục đã chọn vào thư mục đích\n",
    "        for category in split_categories:\n",
    "            for filename in os.listdir(source_dir):\n",
    "                # Kiểm tra tên file chứa tên loại ảnh (phân biệt chữ hoa, chữ thường)\n",
    "                if category in filename.lower():\n",
    "                    src_path = os.path.join(source_dir, filename)\n",
    "                    dst_path = os.path.join(split_dir, filename)\n",
    "                    shutil.copy(src_path, dst_path)\n",
    "\n",
    "print(\"Phân loại ảnh vào các fold hoàn tất!\")\n"
   ]
  },
  {
   "cell_type": "markdown",
   "metadata": {},
   "source": [
    "Chia fold cho label nighttime"
   ]
  },
  {
   "cell_type": "code",
   "execution_count": 6,
   "metadata": {},
   "outputs": [
    {
     "name": "stdout",
     "output_type": "stream",
     "text": [
      "Phân loại các tệp .txt vào các fold hoàn tất!\n"
     ]
    }
   ],
   "source": [
    "import os\n",
    "import shutil\n",
    "\n",
    "# Danh sách loại ảnh\n",
    "categories = [\"cam_03\", \"cam_05\", \"cam_08\"]\n",
    "\n",
    "# Đường dẫn gốc đến thư mục chứa ảnh\n",
    "source_dir = r'D:\\BKAI\\daytime_aug_no_overlap\\nighttime\\train\\label'\n",
    "# Đường dẫn đến thư mục chứa các fold\n",
    "target_dir = r'D:\\BKAI\\main_datasets\\nighttime'\n",
    "\n",
    "# Định nghĩa cách phân loại cho mỗi fold\n",
    "folds = {\n",
    "    \"nighttime_fold_0\": {\n",
    "        \"train\": categories[:2],  # 2 loại đầu\n",
    "        \"val\": categories[-1:]   # 1 loại cuối\n",
    "    },\n",
    "    \"nighttime_fold_1\": {\n",
    "        \"train\": categories[-2:],  # 2 loại cuối\n",
    "        \"val\": categories[:1]      # 1 loại đầu\n",
    "    },\n",
    "    \"nighttime_fold_2\": {\n",
    "        \"train\": categories[:1] + categories[-1:],  # 1 loại đầu + 1 loại cuối\n",
    "        \"val\": categories[1:2]                     # 1 loại giữa\n",
    "    }\n",
    "}\n",
    "\n",
    "# Tạo thư mục fold và copy các tệp .txt vào đúng thư mục\n",
    "for fold_name, split in folds.items():\n",
    "    for split_name, split_categories in split.items():\n",
    "        # Tạo đường dẫn đến thư mục train hoặc val\n",
    "        split_dir = os.path.join(target_dir, fold_name, split_name, r'label')\n",
    "        os.makedirs(split_dir, exist_ok=True)\n",
    "        \n",
    "        # Copy tất cả file .txt thuộc các danh mục đã chọn vào thư mục đích\n",
    "        for category in split_categories:\n",
    "            for filename in os.listdir(source_dir):\n",
    "                # Kiểm tra tên file chứa loại ảnh và là file .txt\n",
    "                if category in filename.lower() and filename.endswith('.txt'):\n",
    "                    src_path = os.path.join(source_dir, filename)\n",
    "                    dst_path = os.path.join(split_dir, filename)\n",
    "                    shutil.copy(src_path, dst_path)\n",
    "\n",
    "print(\"Phân loại các tệp .txt vào các fold hoàn tất!\")\n"
   ]
  }
 ],
 "metadata": {
  "kernelspec": {
   "display_name": "Python 3",
   "language": "python",
   "name": "python3"
  },
  "language_info": {
   "codemirror_mode": {
    "name": "ipython",
    "version": 3
   },
   "file_extension": ".py",
   "mimetype": "text/x-python",
   "name": "python",
   "nbconvert_exporter": "python",
   "pygments_lexer": "ipython3",
   "version": "3.12.0"
  }
 },
 "nbformat": 4,
 "nbformat_minor": 2
}
